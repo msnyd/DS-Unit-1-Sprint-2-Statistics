{
  "nbformat": 4,
  "nbformat_minor": 0,
  "metadata": {
    "colab": {
      "name": "Copy of LS_DS_123_Introduction_to_Bayesian_Inference_Assignment.ipynb",
      "provenance": [],
      "include_colab_link": true
    },
    "kernelspec": {
      "name": "python3",
      "display_name": "Python 3"
    }
  },
  "cells": [
    {
      "cell_type": "markdown",
      "metadata": {
        "id": "view-in-github",
        "colab_type": "text"
      },
      "source": [
        "<a href=\"https://colab.research.google.com/github/msnyd/DS-Unit-1-Sprint-2-Statistics/blob/master/module-3-sprint-1-introduction_to_Bayesian_Inference_Assignment.ipynb\" target=\"_parent\"><img src=\"https://colab.research.google.com/assets/colab-badge.svg\" alt=\"Open In Colab\"/></a>"
      ]
    },
    {
      "cell_type": "markdown",
      "metadata": {
        "id": "H7OLbevlbd_Z",
        "colab_type": "text"
      },
      "source": [
        "# Lambda School Data Science Module 123\n",
        "\n",
        "## Introduction to Bayesian Inference\n",
        "\n",
        "\n"
      ]
    },
    {
      "cell_type": "markdown",
      "metadata": {
        "id": "P-DzzRk5bf0z",
        "colab_type": "text"
      },
      "source": [
        "## Assignment - Code it up!\n",
        "\n",
        "We used pure math to apply Bayes Theorem to drug tests. Now write Python code to reproduce the results! This is purposefully open ended - you'll have to think about how you should represent probabilities and events. You can and should look things up.\n",
        "\n",
        "Specific goals/targets:\n",
        "\n",
        "#### 1) Write a function\n",
        "\n",
        "```\n",
        "def prob_drunk_given_positive(prob_drunk_prior, false_positive_rate, true_positive_rate):\n",
        "```\n",
        "\n",
        "\n",
        "In this example, imagine that individuals are taking a breathalyzer test with an 8% false positive rate, a 100% true positive rate, and that our prior belief about drunk driving in the population is 1/1000.\n",
        "\n",
        "What is the probability that a person is drunk after one positive breathalyzer test?\n",
        "\n",
        "What is the probability that a person is drunk after two positive breathalyzer tests?\n",
        "\n",
        " How many positive breathalyzer tests are needed in order to have a probability that's greater than 95% that a person is drunk beyond the legal limit?\n",
        "\n",
        "### 2) Explore `scipy.stats.bayes_mvs`  \n",
        "Read its documentation, and experiment with it on data you've tested in other ways earlier this week.\n",
        " - Create a visualization comparing the results of a Bayesian approach to a traditional/frequentist approach. (with a large sample size they should look close to identical, however, take this opportunity to practice visualizing condfidence intervals in general. The following are some potential ways that you could visualize confidence intervals on your graph:\n",
        "  - [Matplotlib Error Bars](https://matplotlib.org/3.1.1/api/_as_gen/matplotlib.pyplot.errorbar.html)\n",
        "  - [Seaborn barplot with error bars](https://seaborn.pydata.org/generated/seaborn.barplot.html)\n",
        "  - [Vertical ines to show bounds of confidence interval](https://www.simplypsychology.org/confidence-interval.jpg)\n",
        "  - [Confidence Intervals on Box Plots](https://matplotlib.org/3.1.1/api/_as_gen/matplotlib.axes.Axes.boxplot.html)\n",
        "\n",
        "### 3) In your own words, summarize the difference between Bayesian and Frequentist statistics\n",
        "\n",
        "If you're unsure where to start, check out [this blog post of Bayes theorem with Python](https://dataconomy.com/2015/02/introduction-to-bayes-theorem-with-python/).\n",
        "\n"
      ]
    },
    {
      "cell_type": "code",
      "metadata": {
        "id": "xpVhZyUnbf7o",
        "colab_type": "code",
        "colab": {}
      },
      "source": [
        "# TODO - code!\n",
        "\n",
        "'''\n",
        "  The difference between Bayes statistics and Frequentist statistics is that \n",
        "  Frequentist statistics relies on a sample size in which they don't attach probablilities\n",
        "  to any fixed values.  On the other hand, Bayesian statistics you can use probabilities in\n",
        "  any event or hypothesis to represent uncertainties.\n",
        "\n",
        "  For example, I misplaced my phone somewhere in my house and I can use a phone locator\n",
        "  to find it. Which area of my home should I search?\n",
        "\n",
        "Frequentist Reasoning\n",
        "\n",
        "  I can hear the phone beeping. I also have a mental model which helps me identify \n",
        "  the area from which the sound is coming. Therefore, upon hearing the beep, I \n",
        "  infer the area of my home I must search to locate the phone.\n",
        "\n",
        "Bayesian Reasoning\n",
        "\n",
        "  I can hear the phone beeping. Now, apart from a mental model which helps me identify \n",
        "  the area from which the sound is coming from, I also know the locations where I \n",
        "  have misplaced the phone in the past. So, I combine my inferences using the beeps \n",
        "  and my prior information about the locations I have misplaced the phone in the past \n",
        "  to identify an area I must search to locate the phone.\n",
        "\n",
        "'''\n",
        "\n",
        "\n",
        "\n",
        "def prob_drunk_given_positive(prob_drunk_prior, false_positive_rate, true_positive_rate, confidence):\n",
        "  p_user = prob_drunk_prior\n",
        "  p_pos_given_user = true_positive_rate\n",
        "  p_post_given_non_user = false_positive_rate\n",
        "  p_non_user = 1 - p_user\n",
        "  posterior_probability = (p_pos_given_user*p_user)/((p_pos_given_user*p_user)+(p_post_given_non_user*p_non_user))\n",
        "  print(posterior_probability)\n",
        "  while posterior_probability <= confidence:\n",
        "    p_user = posterior_probability\n",
        "    p_non_user = 1-p_user\n",
        "    posterior_probability = (p_pos_given_user*p_user)/((p_pos_given_user*p_user)+(p_post_given_non_user*p_non_user))\n",
        "    print(posterior_probability)\n",
        "    if posterior_probability == p_user:\n",
        "      break"
      ],
      "execution_count": 0,
      "outputs": []
    },
    {
      "cell_type": "code",
      "metadata": {
        "id": "m_Rdfn1ui4pN",
        "colab_type": "code",
        "outputId": "78059b1b-02ba-4aef-d1b8-c3a6a27682c5",
        "colab": {
          "base_uri": "https://localhost:8080/",
          "height": 340
        }
      },
      "source": [
        "prob_drunk_given_positive(1/1000, .08, 1, 1)"
      ],
      "execution_count": 31,
      "outputs": [
        {
          "output_type": "stream",
          "text": [
            "0.012357884330202669\n",
            "0.13525210993291495\n",
            "0.6615996951348605\n",
            "0.9606895076105054\n",
            "0.9967371577896734\n",
            "0.9997381867081508\n",
            "0.9999790498904363\n",
            "0.9999983239589307\n",
            "0.9999998659165077\n",
            "0.9999999892733192\n",
            "0.9999999991418655\n",
            "0.9999999999313492\n",
            "0.999999999994508\n",
            "0.9999999999995607\n",
            "0.9999999999999648\n",
            "0.9999999999999972\n",
            "0.9999999999999998\n",
            "1.0\n",
            "1.0\n"
          ],
          "name": "stdout"
        }
      ]
    },
    {
      "cell_type": "markdown",
      "metadata": {
        "id": "uWgWjp3PQ3Sq",
        "colab_type": "text"
      },
      "source": [
        "## Resources"
      ]
    },
    {
      "cell_type": "markdown",
      "metadata": {
        "id": "QRgHqmYIQ9qn",
        "colab_type": "text"
      },
      "source": [
        "- [Worked example of Bayes rule calculation](https://en.wikipedia.org/wiki/Bayes'_theorem#Examples) (helpful as it fully breaks out the denominator)\n",
        "- [Source code for mvsdist in scipy](https://github.com/scipy/scipy/blob/90534919e139d2a81c24bf08341734ff41a3db12/scipy/stats/morestats.py#L139)"
      ]
    },
    {
      "cell_type": "markdown",
      "metadata": {
        "id": "GP7Jv1XvwtkX",
        "colab_type": "text"
      },
      "source": [
        "## Stretch Goals:\n",
        "\n",
        "- Go back and study the content from Modules 1 & 2 to make sure that you're really comfortable with them.\n",
        "- Apply a Bayesian technique to a problem you previously worked (in an assignment or project work) on from a frequentist (standard) perspective\n",
        "- Check out [PyMC3](https://docs.pymc.io/) (note this goes beyond hypothesis tests into modeling) - read the guides and work through some examples\n",
        "- Take PyMC3 further - see if you can build something with it!"
      ]
    },
    {
      "cell_type": "code",
      "metadata": {
        "id": "iDi0eFr1x-v_",
        "colab_type": "code",
        "colab": {}
      },
      "source": [
        ""
      ],
      "execution_count": 0,
      "outputs": []
    }
  ]
}